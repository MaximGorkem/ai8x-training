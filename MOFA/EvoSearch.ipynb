{
 "cells": [
  {
   "cell_type": "code",
   "execution_count": 1,
   "metadata": {},
   "outputs": [],
   "source": [
    "import torch\n",
    "from torch.utils.data import DataLoader\n",
    "from mofa import *\n",
    "from evolution_search import *"
   ]
  },
  {
   "cell_type": "code",
   "execution_count": 2,
   "metadata": {},
   "outputs": [],
   "source": [
    "use_cuda = torch.cuda.is_available()\n",
    "device = torch.device(\"cuda:0\" if use_cuda else \"cpu\")"
   ]
  },
  {
   "cell_type": "code",
   "execution_count": 3,
   "metadata": {},
   "outputs": [],
   "source": [
    "model = torch.load('mofa_models/arch_1/EW_over4_clamp_mofa_acc63%_ep20250_BN.pth.tar')\n",
    "mofa = copy.deepcopy(model)\n",
    "model = model.to(device)\n",
    "mofa = mofa.to(device)\n",
    "model = model.train()"
   ]
  },
  {
   "cell_type": "code",
   "execution_count": 4,
   "metadata": {},
   "outputs": [
    {
     "name": "stdout",
     "output_type": "stream",
     "text": [
      "Files already downloaded and verified\n",
      "Files already downloaded and verified\n"
     ]
    }
   ],
   "source": [
    "class Args():\n",
    "    def __init__(self):\n",
    "        super(Args, self).__init__()\n",
    "        self.truncate_testset = False\n",
    "        self.act_mode_8bit = False\n",
    "        \n",
    "args = Args()\n",
    "train_dataset, test_dataset = cifar100_get_datasets(('../data', args))\n",
    "\n",
    "trainset = DataLoader(dataset=train_dataset,\n",
    "                      batch_size=200,\n",
    "                      shuffle=True,\n",
    "                      num_workers=0)\n",
    "\n",
    "valset = DataLoader(dataset=test_dataset,\n",
    "                      batch_size=1000,\n",
    "                      shuffle=False,\n",
    "                      num_workers=0)"
   ]
  },
  {
   "cell_type": "code",
   "execution_count": 5,
   "metadata": {},
   "outputs": [
    {
     "name": "stdout",
     "output_type": "stream",
     "text": [
      "Population Init with 50 Architecture Samples.\n",
      "\tBest Accuracy: 60.61%\n",
      "\tDuration: 586.47secs.\n",
      "\n",
      "Iteration: 0\n",
      "\tMutation done in 304.68secs.\n",
      "\tCrossover done in 301.13secs.\n",
      "\tBest Accuracy: 61.32%\n",
      "\tBest Model: {'in_ch': 3, 'out_class': 100, 'n_units': 5, 'depth_list': [3, 1, 2, 2, 1], 'width_list': [[64, 48, 32], [48], [64, 64], [64, 128], [64]], 'kernel_list': [[1, 3, 3], [1], [3, 3], [1, 3], [3]], 'bias_list': [[True, True, True], [True], [True, True], [True, True], [True]], 'bn': True}\n",
      "\tDuration: 605.81secs.\n",
      "Iteration: 1\n",
      "\tMutation done in 293.24secs.\n",
      "\tCrossover done in 301.66secs.\n",
      "\tBest Accuracy: 62.64%\n",
      "\tBest Model: {'in_ch': 3, 'out_class': 100, 'n_units': 5, 'depth_list': [3, 2, 3, 1, 1], 'width_list': [[32, 64, 32], [48, 32], [128, 96, 128], [96], [96]], 'kernel_list': [[3, 1, 3], [3, 1], [3, 1, 1], [3], [3]], 'bias_list': [[True, True, True], [True, True], [True, True, True], [True], [True]], 'bn': True}\n",
      "\tDuration: 594.90secs.\n",
      "Iteration: 2\n",
      "\tMutation done in 302.66secs.\n",
      "\tCrossover done in 298.38secs.\n",
      "\tBest Accuracy: 62.64%\n",
      "\tBest Model: {'in_ch': 3, 'out_class': 100, 'n_units': 5, 'depth_list': [3, 2, 3, 1, 1], 'width_list': [[32, 64, 32], [48, 32], [128, 96, 128], [96], [96]], 'kernel_list': [[3, 1, 3], [3, 1], [3, 1, 1], [3], [3]], 'bias_list': [[True, True, True], [True, True], [True, True, True], [True], [True]], 'bn': True}\n",
      "\tDuration: 601.04secs.\n",
      "Iteration: 3\n",
      "\tMutation done in 294.48secs.\n",
      "\tCrossover done in 290.71secs.\n",
      "\tBest Accuracy: 62.64%\n",
      "\tBest Model: {'in_ch': 3, 'out_class': 100, 'n_units': 5, 'depth_list': [3, 2, 3, 1, 1], 'width_list': [[32, 64, 32], [48, 32], [128, 96, 128], [96], [96]], 'kernel_list': [[3, 1, 3], [3, 1], [3, 1, 1], [3], [3]], 'bias_list': [[True, True, True], [True, True], [True, True, True], [True], [True]], 'bn': True}\n",
      "\tDuration: 585.18secs.\n",
      "Iteration: 4\n",
      "\tMutation done in 307.23secs.\n",
      "\tCrossover done in 302.09secs.\n",
      "\tBest Accuracy: 62.64%\n",
      "\tBest Model: {'in_ch': 3, 'out_class': 100, 'n_units': 5, 'depth_list': [3, 2, 3, 1, 1], 'width_list': [[32, 64, 32], [48, 32], [128, 96, 128], [96], [96]], 'kernel_list': [[3, 1, 3], [3, 1], [3, 1, 1], [3], [3]], 'bias_list': [[True, True, True], [True, True], [True, True, True], [True], [True]], 'bn': True}\n",
      "\tDuration: 609.31secs.\n",
      "Iteration: 5\n",
      "\tMutation done in 290.79secs.\n",
      "\tCrossover done in 291.45secs.\n",
      "\tBest Accuracy: 62.66%\n",
      "\tBest Model: {'in_ch': 3, 'out_class': 100, 'n_units': 5, 'depth_list': [3, 2, 2, 2, 1], 'width_list': [[32, 48, 48], [48, 64], [64, 96], [96, 64], [128]], 'kernel_list': [[3, 1, 3], [1, 3], [3, 3], [1, 3], [3]], 'bias_list': [[True, True, True], [True, True], [True, True], [True, True], [True]], 'bn': True}\n",
      "\tDuration: 582.25secs.\n",
      "Iteration: 6\n",
      "\tMutation done in 293.85secs.\n",
      "\tCrossover done in 289.51secs.\n",
      "\tBest Accuracy: 62.80%\n",
      "\tBest Model: {'in_ch': 3, 'out_class': 100, 'n_units': 5, 'depth_list': [3, 2, 3, 1, 1], 'width_list': [[32, 64, 32], [48, 32], [128, 96, 128], [96], [96]], 'kernel_list': [[3, 1, 3], [3, 1], [3, 1, 1], [3], [3]], 'bias_list': [[True, True, True], [True, True], [True, True, True], [True], [True]], 'bn': True}\n",
      "\tDuration: 583.36secs.\n",
      "Iteration: 7\n",
      "\tMutation done in 290.90secs.\n",
      "\tCrossover done in 307.34secs.\n",
      "\tBest Accuracy: 62.80%\n",
      "\tBest Model: {'in_ch': 3, 'out_class': 100, 'n_units': 5, 'depth_list': [3, 2, 3, 1, 1], 'width_list': [[32, 64, 32], [48, 32], [128, 96, 128], [96], [96]], 'kernel_list': [[3, 1, 3], [3, 1], [3, 1, 1], [3], [3]], 'bias_list': [[True, True, True], [True, True], [True, True, True], [True], [True]], 'bn': True}\n",
      "\tDuration: 598.24secs.\n",
      "Iteration: 8\n",
      "\tMutation done in 293.68secs.\n",
      "\tCrossover done in 294.28secs.\n",
      "\tBest Accuracy: 62.80%\n",
      "\tBest Model: {'in_ch': 3, 'out_class': 100, 'n_units': 5, 'depth_list': [3, 2, 3, 1, 1], 'width_list': [[32, 64, 32], [48, 32], [128, 96, 128], [96], [96]], 'kernel_list': [[3, 1, 3], [3, 1], [3, 1, 1], [3], [3]], 'bias_list': [[True, True, True], [True, True], [True, True, True], [True], [True]], 'bn': True}\n",
      "\tDuration: 587.97secs.\n",
      "Iteration: 9\n",
      "\tMutation done in 288.92secs.\n",
      "\tCrossover done in 287.14secs.\n",
      "\tBest Accuracy: 62.86%\n",
      "\tBest Model: {'in_ch': 3, 'out_class': 100, 'n_units': 5, 'depth_list': [3, 2, 3, 2, 1], 'width_list': [[64, 48, 32], [48, 48], [128, 128, 64], [128, 96], [96]], 'kernel_list': [[3, 1, 3], [1, 3], [3, 1, 1], [3, 1], [3]], 'bias_list': [[True, True, True], [True, True], [True, True, True], [True, True], [True]], 'bn': True}\n",
      "\tDuration: 576.07secs.\n",
      "Best Model:\n",
      "{'in_ch': 3, 'out_class': 100, 'n_units': 5, 'depth_list': [3, 2, 3, 2, 1], 'width_list': [[64, 48, 32], [48, 48], [128, 128, 64], [128, 96], [96]], 'kernel_list': [[3, 1, 3], [1, 3], [3, 1, 1], [3, 1], [3]], 'bias_list': [[True, True, True], [True, True], [True, True, True], [True, True], [True]], 'bn': True}\n"
     ]
    },
    {
     "data": {
      "text/plain": [
       "(<mofa.MOFA_Net_Arch at 0x7f19867a4940>, 0.6286)"
      ]
     },
     "execution_count": 5,
     "metadata": {},
     "output_type": "execute_result"
    }
   ],
   "source": [
    "evo = EvolutionSearch(population_size=50, num_iter=10)\n",
    "\n",
    "evo.set_model(mofa)\n",
    "constraint = {'max_num_weights': 4e5, 'min_num_weights': 25e4}\n",
    "evo.run(constraint, trainset, valset, device)"
   ]
  }
 ],
 "metadata": {
  "kernelspec": {
   "display_name": "Python 3",
   "language": "python",
   "name": "python3"
  },
  "language_info": {
   "codemirror_mode": {
    "name": "ipython",
    "version": 3
   },
   "file_extension": ".py",
   "mimetype": "text/x-python",
   "name": "python",
   "nbconvert_exporter": "python",
   "pygments_lexer": "ipython3",
   "version": "3.8.5"
  }
 },
 "nbformat": 4,
 "nbformat_minor": 4
}
